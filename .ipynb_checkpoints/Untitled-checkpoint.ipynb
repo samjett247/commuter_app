{
 "cells": [
  {
   "cell_type": "code",
   "execution_count": 14,
   "metadata": {},
   "outputs": [
    {
     "name": "stdout",
     "output_type": "stream",
     "text": [
      "UTC\n"
     ]
    }
   ],
   "source": [
    "from googlemaps import Client\n",
    "from datetime import datetime, timedelta\n",
    "import numpy as np\n",
    "import time\n",
    "import pytz\n",
    "import os\n",
    "\n",
    "def convert_timezone_to_utc_epoch(timestamp_string, local_tz):\n",
    "    ''' \n",
    "    input is in GMT/UTC time\n",
    "    '''\n",
    "    ts = datetime.strptime(timestamp_string, '%Y-%m-%d %H:%M:%S')\n",
    "    ts = str(ts.astimezone(local_tz))[0:19] #MODIFIED such that the input can be in local time!\n",
    "    \n",
    "    # Compute the Epoch time for the API call\n",
    "    epoch = int(time.mktime(time.strptime(ts, '%Y-%m-%d %H:%M:%S')))\n",
    "    return epoch\n",
    "\n",
    "def obtain_commute_times(origin, destination, time_range, time_int):\n",
    "    '''\n",
    "    This function will obtain the commute times from origin to destination.\n",
    "    '''\n",
    "\n",
    "    # Import api key from apikey.py\n",
    "    from apikey import gmaps_dir_matrix_key\n",
    "\n",
    "    API_key = gmaps_dir_matrix_key # Insert your Google Distance Matrix API Key here\n",
    "    \n",
    "    # Build an API Client for the call\n",
    "    gmaps = Client(API_key)\n",
    "\n",
    "    # The time interval on x-axis between each api call/data point\n",
    "    time_interval = time_int  # time interval in Seconds\n",
    "    t_int_minutes = time_interval / 60\n",
    "    \n",
    "    # Define the correct timezone via the destination\n",
    "    \n",
    "    # Geocode the input address\n",
    "    geocode_result = gmaps.geocode(destination)\n",
    "    # Obtain latitude and longitude information\n",
    "    lat = geocode_result[0]['geometry']['location']['lat']\n",
    "    lng = geocode_result[0]['geometry']['location']['lng']\n",
    "\n",
    "    # Obtain the timezone for the geocoded address longitude and latitude\n",
    "    timezone = gmaps.timezone((lat, lng))\n",
    "    tz = timezone['timeZoneId']\n",
    "\n",
    "    # Change the environment timezone to the timezone of the destination\n",
    "    os.environ['TZ'] = tz\n",
    "\n",
    "    # Pass the timezone to datetime.today to get the current time in that timezone\n",
    "    location_tz = pytz.timezone(tz)\n",
    "    today = datetime.now(location_tz)\n",
    "\n",
    "    # This gives the nearest wednesday at midnight to the current data\n",
    "    today_ind = today.weekday()\n",
    "    day_modif = 16 - today_ind  # 16 to get the nearest wednesday, two weeks from now\n",
    "    wednesday_mid = today + timedelta(days=day_modif, seconds=-today.second, minutes=-today.minute, hours=-today.hour)\n",
    "    wed_mid_int = int(wednesday_mid.strftime(\"%s\"))\n",
    "\n",
    "    # Create the first and last query times\n",
    "    first_query = wednesday_mid+timedelta(hours = time_range[0])\n",
    "    first_q = first_query.strftime(\"%Y-%m-%d %H:%M:%S\")\n",
    "    last_query = wednesday_mid+timedelta(hours = time_range[1])\n",
    "    last_q = last_query.strftime(\"%Y-%m-%d %H:%M:%S\")\n",
    "    \n",
    "    # Convert query times to Epoch time\n",
    "    start_time = convert_timezone_to_utc_epoch(first_q, location_tz)\n",
    "    end_time = convert_timezone_to_utc_epoch(last_q, location_tz)\n",
    "\n",
    "    print(\"The first epoch is \")\n",
    "    print(start_time)\n",
    "    print(\"The second epoch  is \")\n",
    "    print(end_time)\n",
    "    num_intervals = int((end_time - start_time) / time_interval)\n",
    "\n",
    "    # Use linspace to make our integer times\n",
    "    times = np.linspace(start_time, end_time, num_intervals + 1, endpoint=True).astype(np.int)\n",
    "\n",
    "    org_mat = [origin]\n",
    "    dest_mat = [destination]\n",
    "\n",
    "    commute_times = [] * len(times)\n",
    "    print(times)\n",
    "    \n",
    "    for i in range(0, len(times)):\n",
    "        # Call the google distance matrix api for each \n",
    "        dept_time_iter = times[i]\n",
    "        directions = gmaps.distance_matrix(org_mat, dest_mat, departure_time=dept_time_iter,\n",
    "                                           traffic_model='pessimistic')\n",
    "        commute_time = directions['rows'][0]['elements'][0]['duration_in_traffic']['value']\n",
    "        commute_times.append(round(commute_time/60, 1))\n",
    "\n",
    "    # Set the environment to the UTC, for standardization\n",
    "    os.environ['TZ'] = 'UTC'\n",
    "\n",
    "    return commute_times"
   ]
  },
  {
   "cell_type": "code",
   "execution_count": 15,
   "metadata": {},
   "outputs": [
    {
     "name": "stdout",
     "output_type": "stream",
     "text": [
      "Epoch for API call is: 1543428000\n",
      "Epoch for API call is: 1543449600\n",
      "The first epoch is \n",
      "1543428000\n",
      "The second epoch  is \n",
      "1543449600\n",
      "[1543428000 1543428900 1543429800 1543430700 1543431600 1543432500\n",
      " 1543433400 1543434300 1543435200 1543436100 1543437000 1543437900\n",
      " 1543438800 1543439700 1543440600 1543441500 1543442400 1543443300\n",
      " 1543444200 1543445100 1543446000 1543446900 1543447800 1543448700\n",
      " 1543449600]\n"
     ]
    }
   ],
   "source": [
    "ct = obtain_commute_times('harlem, new york', 'trump tower, new york city', time_range = (13,19), time_int = 15*60)"
   ]
  }
 ],
 "metadata": {
  "kernelspec": {
   "display_name": "Python 3",
   "language": "python",
   "name": "python3"
  },
  "language_info": {
   "codemirror_mode": {
    "name": "ipython",
    "version": 3
   },
   "file_extension": ".py",
   "mimetype": "text/x-python",
   "name": "python",
   "nbconvert_exporter": "python",
   "pygments_lexer": "ipython3",
   "version": "3.6.6"
  }
 },
 "nbformat": 4,
 "nbformat_minor": 2
}
