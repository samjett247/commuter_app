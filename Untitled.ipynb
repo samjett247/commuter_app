{
 "cells": [
  {
   "cell_type": "code",
   "execution_count": 61,
   "metadata": {},
   "outputs": [],
   "source": [
    "from googlemaps import Client\n",
    "from datetime import datetime, timedelta\n",
    "import numpy as np\n",
    "import time\n",
    "import pytz\n",
    "import pytz\n",
    "from datetime import datetime, timedelta\n",
    "import numpy as np\n",
    "import time\n",
    "import pytz\n",
    "\n",
    "\n",
    "    "
   ]
  },
  {
   "cell_type": "code",
   "execution_count": 62,
   "metadata": {},
   "outputs": [
    {
     "name": "stdout",
     "output_type": "stream",
     "text": [
      "Today is \n",
      "2018-11-11 21:58:20.358781\n"
     ]
    }
   ],
   "source": [
    "time_int = 900\n",
    "time_range = (7,9)\n",
    "origin = '467 college ave norman ok'\n",
    "destination = \"American Fidelity Assurance Company Oklahoma City, OK\"\n",
    "# The time interval on x-axis between each api call/data point\n",
    "time_interval = time_int  # time interval in Seconds\n",
    "t_int_minutes = time_interval / 60\n",
    "\n",
    "# This gives the nearest wednesday at midnight to the current data\n",
    "today = datetime.today()\n",
    "print(\"Today is \")\n",
    "print(today)\n",
    "today_ind = today.weekday()\n",
    "day_modif = 16 - today_ind  # 16 to get the nearest wednesday, two weeks from now\n",
    "wednesday_mid = today + timedelta(days=day_modif, seconds=-today.second, minutes=-today.minute, hours=-today.hour)\n",
    "wed_mid_int = int(wednesday_mid.strftime(\"%s\"))"
   ]
  },
  {
   "cell_type": "code",
   "execution_count": 63,
   "metadata": {},
   "outputs": [],
   "source": [
    "# Import api key from apikey.py\n",
    "from apikey import gmaps_dir_matrix_key\n",
    "\n",
    "API_key = gmaps_dir_matrix_key # Insert your Google Distance Matrix API Key here\n",
    "gmaps = Client(API_key)\n",
    "\n"
   ]
  },
  {
   "cell_type": "code",
   "execution_count": null,
   "metadata": {},
   "outputs": [],
   "source": []
  },
  {
   "cell_type": "code",
   "execution_count": 64,
   "metadata": {},
   "outputs": [
    {
     "name": "stdout",
     "output_type": "stream",
     "text": [
      "2018-11-11 21:58:25.777112-06:00\n"
     ]
    }
   ],
   "source": [
    "# Geocode the input address\n",
    "geocode_result = gmaps.geocode(destination)\n",
    "# Obtain latitude and longitude information\n",
    "lat = geocode_result[0]['geometry']['location']['lat']\n",
    "lng = geocode_result[0]['geometry']['location']['lng']\n",
    "\n",
    "# Obtain the timezone for the geocoded address longitude and latitude\n",
    "timezone = gmaps.timezone((lat, lng))\n",
    "tz = timezone['timeZoneId']\n",
    "\n",
    "# Pass the timezone to datetime.today to get the current time in that timezone\n",
    "location_tz = pytz.timezone(tz)\n",
    "now =datetime.now(location_tz)\n",
    "print(now)"
   ]
  },
  {
   "cell_type": "code",
   "execution_count": 71,
   "metadata": {},
   "outputs": [
    {
     "name": "stderr",
     "output_type": "stream",
     "text": [
      "\n",
      "  0%|          | 0/50 [00:00<?, ?it/s]\u001b[A\n",
      "  2%|▏         | 1/50 [00:00<00:19,  2.56it/s]\u001b[A"
     ]
    },
    {
     "name": "stdout",
     "output_type": "stream",
     "text": [
      "2079\n"
     ]
    },
    {
     "name": "stderr",
     "output_type": "stream",
     "text": [
      "\n",
      "  4%|▍         | 2/50 [00:00<00:20,  2.32it/s]\u001b[A"
     ]
    },
    {
     "name": "stdout",
     "output_type": "stream",
     "text": [
      "2079\n"
     ]
    },
    {
     "name": "stderr",
     "output_type": "stream",
     "text": [
      "\n",
      "  6%|▌         | 3/50 [00:01<00:20,  2.29it/s]\u001b[A"
     ]
    },
    {
     "name": "stdout",
     "output_type": "stream",
     "text": [
      "2079\n"
     ]
    },
    {
     "name": "stderr",
     "output_type": "stream",
     "text": [
      "\n",
      "  8%|▊         | 4/50 [00:01<00:18,  2.54it/s]\u001b[A"
     ]
    },
    {
     "name": "stdout",
     "output_type": "stream",
     "text": [
      "2079\n"
     ]
    },
    {
     "name": "stderr",
     "output_type": "stream",
     "text": [
      "\n",
      " 10%|█         | 5/50 [00:01<00:17,  2.60it/s]\u001b[A"
     ]
    },
    {
     "name": "stdout",
     "output_type": "stream",
     "text": [
      "2079\n"
     ]
    },
    {
     "name": "stderr",
     "output_type": "stream",
     "text": [
      "\n",
      " 12%|█▏        | 6/50 [00:02<00:18,  2.36it/s]\u001b[A"
     ]
    },
    {
     "name": "stdout",
     "output_type": "stream",
     "text": [
      "2079\n"
     ]
    },
    {
     "name": "stderr",
     "output_type": "stream",
     "text": [
      "\n",
      " 14%|█▍        | 7/50 [00:02<00:17,  2.45it/s]\u001b[A"
     ]
    },
    {
     "name": "stdout",
     "output_type": "stream",
     "text": [
      "2079\n"
     ]
    },
    {
     "name": "stderr",
     "output_type": "stream",
     "text": [
      "\n",
      " 16%|█▌        | 8/50 [00:03<00:16,  2.54it/s]\u001b[A"
     ]
    },
    {
     "name": "stdout",
     "output_type": "stream",
     "text": [
      "2079\n"
     ]
    },
    {
     "name": "stderr",
     "output_type": "stream",
     "text": [
      "\n",
      " 18%|█▊        | 9/50 [00:03<00:17,  2.39it/s]\u001b[A"
     ]
    },
    {
     "name": "stdout",
     "output_type": "stream",
     "text": [
      "2080\n"
     ]
    },
    {
     "name": "stderr",
     "output_type": "stream",
     "text": [
      "\n",
      " 20%|██        | 10/50 [00:04<00:16,  2.39it/s]\u001b[A"
     ]
    },
    {
     "name": "stdout",
     "output_type": "stream",
     "text": [
      "2080\n"
     ]
    },
    {
     "name": "stderr",
     "output_type": "stream",
     "text": [
      "\n",
      " 22%|██▏       | 11/50 [00:04<00:16,  2.35it/s]\u001b[A"
     ]
    },
    {
     "name": "stdout",
     "output_type": "stream",
     "text": [
      "2080\n"
     ]
    },
    {
     "name": "stderr",
     "output_type": "stream",
     "text": [
      "\n",
      " 24%|██▍       | 12/50 [00:04<00:15,  2.40it/s]\u001b[A"
     ]
    },
    {
     "name": "stdout",
     "output_type": "stream",
     "text": [
      "2080\n"
     ]
    },
    {
     "name": "stderr",
     "output_type": "stream",
     "text": [
      "\n",
      " 26%|██▌       | 13/50 [00:05<00:15,  2.43it/s]\u001b[A"
     ]
    },
    {
     "name": "stdout",
     "output_type": "stream",
     "text": [
      "2080\n"
     ]
    },
    {
     "name": "stderr",
     "output_type": "stream",
     "text": [
      "\n",
      " 28%|██▊       | 14/50 [00:05<00:15,  2.36it/s]\u001b[A"
     ]
    },
    {
     "name": "stdout",
     "output_type": "stream",
     "text": [
      "2080\n"
     ]
    },
    {
     "name": "stderr",
     "output_type": "stream",
     "text": [
      "\n",
      " 30%|███       | 15/50 [00:06<00:15,  2.32it/s]\u001b[A"
     ]
    },
    {
     "name": "stdout",
     "output_type": "stream",
     "text": [
      "2080\n"
     ]
    },
    {
     "name": "stderr",
     "output_type": "stream",
     "text": [
      "\n",
      " 32%|███▏      | 16/50 [00:06<00:14,  2.36it/s]\u001b[A"
     ]
    },
    {
     "name": "stdout",
     "output_type": "stream",
     "text": [
      "2080\n"
     ]
    },
    {
     "name": "stderr",
     "output_type": "stream",
     "text": [
      "\n",
      " 34%|███▍      | 17/50 [00:07<00:13,  2.40it/s]\u001b[A"
     ]
    },
    {
     "name": "stdout",
     "output_type": "stream",
     "text": [
      "2080\n"
     ]
    },
    {
     "name": "stderr",
     "output_type": "stream",
     "text": [
      "\n",
      " 36%|███▌      | 18/50 [00:07<00:13,  2.41it/s]\u001b[A"
     ]
    },
    {
     "name": "stdout",
     "output_type": "stream",
     "text": [
      "2080\n"
     ]
    },
    {
     "name": "stderr",
     "output_type": "stream",
     "text": [
      "\n",
      " 38%|███▊      | 19/50 [00:08<00:13,  2.35it/s]\u001b[A"
     ]
    },
    {
     "name": "stdout",
     "output_type": "stream",
     "text": [
      "2080\n"
     ]
    },
    {
     "name": "stderr",
     "output_type": "stream",
     "text": [
      "\n",
      " 40%|████      | 20/50 [00:08<00:13,  2.30it/s]\u001b[A"
     ]
    },
    {
     "name": "stdout",
     "output_type": "stream",
     "text": [
      "2080\n"
     ]
    },
    {
     "name": "stderr",
     "output_type": "stream",
     "text": [
      "\n",
      " 42%|████▏     | 21/50 [00:08<00:12,  2.34it/s]\u001b[A"
     ]
    },
    {
     "name": "stdout",
     "output_type": "stream",
     "text": [
      "2080\n"
     ]
    },
    {
     "name": "stderr",
     "output_type": "stream",
     "text": [
      "\n",
      " 44%|████▍     | 22/50 [00:09<00:12,  2.29it/s]\u001b[A"
     ]
    },
    {
     "name": "stdout",
     "output_type": "stream",
     "text": [
      "2080\n"
     ]
    },
    {
     "name": "stderr",
     "output_type": "stream",
     "text": [
      "\n",
      " 46%|████▌     | 23/50 [00:10<00:11,  2.25it/s]\u001b[A"
     ]
    },
    {
     "name": "stdout",
     "output_type": "stream",
     "text": [
      "2080\n"
     ]
    },
    {
     "name": "stderr",
     "output_type": "stream",
     "text": [
      "\n",
      " 48%|████▊     | 24/50 [00:10<00:11,  2.21it/s]\u001b[A"
     ]
    },
    {
     "name": "stdout",
     "output_type": "stream",
     "text": [
      "2080\n"
     ]
    },
    {
     "name": "stderr",
     "output_type": "stream",
     "text": [
      "\n",
      " 50%|█████     | 25/50 [00:11<00:11,  2.18it/s]\u001b[A"
     ]
    },
    {
     "name": "stdout",
     "output_type": "stream",
     "text": [
      "2080\n"
     ]
    },
    {
     "name": "stderr",
     "output_type": "stream",
     "text": [
      "\n",
      " 52%|█████▏    | 26/50 [00:11<00:10,  2.21it/s]\u001b[A"
     ]
    },
    {
     "name": "stdout",
     "output_type": "stream",
     "text": [
      "2080\n"
     ]
    },
    {
     "name": "stderr",
     "output_type": "stream",
     "text": [
      "\n",
      " 54%|█████▍    | 27/50 [00:12<00:10,  2.18it/s]\u001b[A"
     ]
    },
    {
     "name": "stdout",
     "output_type": "stream",
     "text": [
      "2080\n"
     ]
    },
    {
     "name": "stderr",
     "output_type": "stream",
     "text": [
      "\n",
      " 56%|█████▌    | 28/50 [00:12<00:09,  2.20it/s]\u001b[A"
     ]
    },
    {
     "name": "stdout",
     "output_type": "stream",
     "text": [
      "2080\n"
     ]
    },
    {
     "name": "stderr",
     "output_type": "stream",
     "text": [
      "\n",
      " 58%|█████▊    | 29/50 [00:13<00:09,  2.22it/s]\u001b[A"
     ]
    },
    {
     "name": "stdout",
     "output_type": "stream",
     "text": [
      "2080\n"
     ]
    },
    {
     "name": "stderr",
     "output_type": "stream",
     "text": [
      "\n",
      " 60%|██████    | 30/50 [00:13<00:08,  2.25it/s]\u001b[A"
     ]
    },
    {
     "name": "stdout",
     "output_type": "stream",
     "text": [
      "2080\n"
     ]
    },
    {
     "name": "stderr",
     "output_type": "stream",
     "text": [
      "\n",
      " 62%|██████▏   | 31/50 [00:13<00:08,  2.26it/s]\u001b[A"
     ]
    },
    {
     "name": "stdout",
     "output_type": "stream",
     "text": [
      "2080\n"
     ]
    },
    {
     "name": "stderr",
     "output_type": "stream",
     "text": [
      "\n",
      " 64%|██████▍   | 32/50 [00:13<00:07,  2.29it/s]\u001b[A"
     ]
    },
    {
     "name": "stdout",
     "output_type": "stream",
     "text": [
      "2080\n"
     ]
    },
    {
     "name": "stderr",
     "output_type": "stream",
     "text": [
      "\n",
      " 66%|██████▌   | 33/50 [00:14<00:07,  2.31it/s]\u001b[A"
     ]
    },
    {
     "name": "stdout",
     "output_type": "stream",
     "text": [
      "2080\n"
     ]
    },
    {
     "name": "stderr",
     "output_type": "stream",
     "text": [
      "\n",
      " 68%|██████▊   | 34/50 [00:14<00:06,  2.34it/s]\u001b[A"
     ]
    },
    {
     "name": "stdout",
     "output_type": "stream",
     "text": [
      "2080\n"
     ]
    },
    {
     "name": "stderr",
     "output_type": "stream",
     "text": [
      "\n",
      " 70%|███████   | 35/50 [00:14<00:06,  2.36it/s]\u001b[A"
     ]
    },
    {
     "name": "stdout",
     "output_type": "stream",
     "text": [
      "2080\n"
     ]
    },
    {
     "name": "stderr",
     "output_type": "stream",
     "text": [
      "\n",
      " 72%|███████▏  | 36/50 [00:15<00:05,  2.36it/s]\u001b[A"
     ]
    },
    {
     "name": "stdout",
     "output_type": "stream",
     "text": [
      "2080\n"
     ]
    },
    {
     "name": "stderr",
     "output_type": "stream",
     "text": [
      "\n",
      " 74%|███████▍  | 37/50 [00:15<00:05,  2.37it/s]\u001b[A"
     ]
    },
    {
     "name": "stdout",
     "output_type": "stream",
     "text": [
      "2080\n"
     ]
    },
    {
     "name": "stderr",
     "output_type": "stream",
     "text": [
      "\n",
      " 76%|███████▌  | 38/50 [00:15<00:05,  2.38it/s]\u001b[A"
     ]
    },
    {
     "name": "stdout",
     "output_type": "stream",
     "text": [
      "2080\n"
     ]
    },
    {
     "name": "stderr",
     "output_type": "stream",
     "text": [
      "\n",
      " 78%|███████▊  | 39/50 [00:16<00:04,  2.40it/s]\u001b[A"
     ]
    },
    {
     "name": "stdout",
     "output_type": "stream",
     "text": [
      "2080\n"
     ]
    },
    {
     "name": "stderr",
     "output_type": "stream",
     "text": [
      "\n",
      " 80%|████████  | 40/50 [00:16<00:04,  2.42it/s]\u001b[A"
     ]
    },
    {
     "name": "stdout",
     "output_type": "stream",
     "text": [
      "2080\n"
     ]
    },
    {
     "name": "stderr",
     "output_type": "stream",
     "text": [
      "\n",
      " 82%|████████▏ | 41/50 [00:16<00:03,  2.41it/s]\u001b[A"
     ]
    },
    {
     "name": "stdout",
     "output_type": "stream",
     "text": [
      "2080\n"
     ]
    },
    {
     "name": "stderr",
     "output_type": "stream",
     "text": [
      "\n",
      " 84%|████████▍ | 42/50 [00:17<00:03,  2.39it/s]\u001b[A"
     ]
    },
    {
     "name": "stdout",
     "output_type": "stream",
     "text": [
      "2080\n"
     ]
    },
    {
     "name": "stderr",
     "output_type": "stream",
     "text": [
      "\n",
      " 86%|████████▌ | 43/50 [00:18<00:02,  2.36it/s]\u001b[A"
     ]
    },
    {
     "name": "stdout",
     "output_type": "stream",
     "text": [
      "2080\n"
     ]
    },
    {
     "name": "stderr",
     "output_type": "stream",
     "text": [
      "\n",
      " 88%|████████▊ | 44/50 [00:18<00:02,  2.38it/s]\u001b[A"
     ]
    },
    {
     "name": "stdout",
     "output_type": "stream",
     "text": [
      "2080\n"
     ]
    },
    {
     "name": "stderr",
     "output_type": "stream",
     "text": [
      "\n",
      " 90%|█████████ | 45/50 [00:19<00:02,  2.35it/s]\u001b[A"
     ]
    },
    {
     "name": "stdout",
     "output_type": "stream",
     "text": [
      "2080\n"
     ]
    },
    {
     "name": "stderr",
     "output_type": "stream",
     "text": [
      "\n",
      " 92%|█████████▏| 46/50 [00:19<00:01,  2.33it/s]\u001b[A"
     ]
    },
    {
     "name": "stdout",
     "output_type": "stream",
     "text": [
      "2080\n"
     ]
    },
    {
     "name": "stderr",
     "output_type": "stream",
     "text": [
      "\n",
      " 94%|█████████▍| 47/50 [00:20<00:01,  2.34it/s]\u001b[A"
     ]
    },
    {
     "name": "stdout",
     "output_type": "stream",
     "text": [
      "2080\n"
     ]
    },
    {
     "name": "stderr",
     "output_type": "stream",
     "text": [
      "\n",
      " 96%|█████████▌| 48/50 [00:20<00:00,  2.32it/s]\u001b[A"
     ]
    },
    {
     "name": "stdout",
     "output_type": "stream",
     "text": [
      "2080\n"
     ]
    },
    {
     "name": "stderr",
     "output_type": "stream",
     "text": [
      "\n",
      " 98%|█████████▊| 49/50 [00:21<00:00,  2.27it/s]\u001b[A"
     ]
    },
    {
     "name": "stdout",
     "output_type": "stream",
     "text": [
      "2080\n"
     ]
    },
    {
     "name": "stderr",
     "output_type": "stream",
     "text": [
      "\n",
      "100%|██████████| 50/50 [00:22<00:00,  2.25it/s]\u001b[A\n",
      "\u001b[A\n",
      "  0%|          | 0/50 [00:00<?, ?it/s]\u001b[A"
     ]
    },
    {
     "name": "stdout",
     "output_type": "stream",
     "text": [
      "2080\n"
     ]
    },
    {
     "name": "stderr",
     "output_type": "stream",
     "text": [
      "\n",
      "  2%|▏         | 1/50 [00:00<00:14,  3.35it/s]\u001b[A\n",
      "  4%|▍         | 2/50 [00:00<00:22,  2.16it/s]\u001b[A\n",
      "  6%|▌         | 3/50 [00:01<00:23,  1.96it/s]\u001b[A\n",
      "  8%|▊         | 4/50 [00:01<00:20,  2.28it/s]\u001b[A\n",
      " 10%|█         | 5/50 [00:02<00:19,  2.33it/s]\u001b[A\n",
      " 12%|█▏        | 6/50 [00:02<00:17,  2.45it/s]\u001b[A\n",
      " 14%|█▍        | 7/50 [00:03<00:18,  2.28it/s]\u001b[A\n",
      " 16%|█▌        | 8/50 [00:03<00:17,  2.37it/s]\u001b[A\n",
      " 18%|█▊        | 9/50 [00:03<00:16,  2.43it/s]\u001b[A\n",
      " 20%|██        | 10/50 [00:04<00:17,  2.33it/s]\u001b[A\n",
      " 22%|██▏       | 11/50 [00:04<00:17,  2.24it/s]\u001b[A\n",
      " 24%|██▍       | 12/50 [00:05<00:17,  2.17it/s]\u001b[A\n",
      " 26%|██▌       | 13/50 [00:06<00:17,  2.12it/s]\u001b[A\n",
      " 28%|██▊       | 14/50 [00:06<00:16,  2.17it/s]\u001b[A\n",
      " 30%|███       | 15/50 [00:06<00:15,  2.22it/s]\u001b[A\n",
      " 32%|███▏      | 16/50 [00:07<00:14,  2.27it/s]\u001b[A\n",
      " 34%|███▍      | 17/50 [00:07<00:14,  2.22it/s]\u001b[A\n",
      " 36%|███▌      | 18/50 [00:07<00:14,  2.27it/s]\u001b[A\n",
      " 38%|███▊      | 19/50 [00:08<00:13,  2.29it/s]\u001b[A\n",
      " 40%|████      | 20/50 [00:08<00:12,  2.33it/s]\u001b[A\n",
      " 42%|████▏     | 21/50 [00:09<00:12,  2.28it/s]\u001b[A\n",
      " 44%|████▍     | 22/50 [00:09<00:12,  2.24it/s]\u001b[A\n",
      " 46%|████▌     | 23/50 [00:10<00:11,  2.27it/s]\u001b[A\n",
      " 48%|████▊     | 24/50 [00:10<00:11,  2.23it/s]\u001b[A\n",
      " 50%|█████     | 25/50 [00:11<00:11,  2.26it/s]\u001b[A\n",
      " 52%|█████▏    | 26/50 [00:11<00:10,  2.29it/s]\u001b[A\n",
      " 54%|█████▍    | 27/50 [00:11<00:09,  2.31it/s]\u001b[A\n",
      " 56%|█████▌    | 28/50 [00:12<00:09,  2.32it/s]\u001b[A\n",
      " 58%|█████▊    | 29/50 [00:12<00:08,  2.34it/s]\u001b[A\n",
      " 60%|██████    | 30/50 [00:13<00:08,  2.27it/s]\u001b[A\n",
      " 62%|██████▏   | 31/50 [00:13<00:08,  2.31it/s]\u001b[A\n",
      " 64%|██████▍   | 32/50 [00:13<00:07,  2.32it/s]\u001b[A\n",
      " 66%|██████▌   | 33/50 [00:14<00:07,  2.34it/s]\u001b[A\n",
      " 68%|██████▊   | 34/50 [00:14<00:06,  2.35it/s]\u001b[A\n",
      " 70%|███████   | 35/50 [00:14<00:06,  2.36it/s]\u001b[A\n",
      " 72%|███████▏  | 36/50 [00:15<00:05,  2.35it/s]\u001b[A\n",
      " 74%|███████▍  | 37/50 [00:15<00:05,  2.36it/s]\u001b[A\n",
      " 76%|███████▌  | 38/50 [00:15<00:05,  2.38it/s]\u001b[A\n",
      " 78%|███████▊  | 39/50 [00:16<00:04,  2.40it/s]\u001b[A\n",
      " 80%|████████  | 40/50 [00:16<00:04,  2.41it/s]\u001b[A\n",
      " 82%|████████▏ | 41/50 [00:17<00:03,  2.38it/s]\u001b[A\n",
      " 84%|████████▍ | 42/50 [00:17<00:03,  2.36it/s]\u001b[A\n",
      " 86%|████████▌ | 43/50 [00:18<00:02,  2.33it/s]\u001b[A\n",
      " 88%|████████▊ | 44/50 [00:18<00:02,  2.36it/s]\u001b[A\n",
      " 90%|█████████ | 45/50 [00:19<00:02,  2.36it/s]\u001b[A\n",
      " 92%|█████████▏| 46/50 [00:19<00:01,  2.38it/s]\u001b[A\n",
      " 94%|█████████▍| 47/50 [00:19<00:01,  2.38it/s]\u001b[A\n",
      " 96%|█████████▌| 48/50 [00:20<00:00,  2.37it/s]\u001b[A\n",
      " 98%|█████████▊| 49/50 [00:20<00:00,  2.38it/s]\u001b[A\n",
      "100%|██████████| 50/50 [00:21<00:00,  2.36it/s]\u001b[A\n",
      "\u001b[A"
     ]
    }
   ],
   "source": [
    "# Experimentation with directions matrix\n",
    "from tqdm import tqdm\n",
    "dept_time_iter = int(now.strftime(\"%s\"))\n",
    "for i in tqdm(range(50)):\n",
    "    mydir = gmaps.directions(origin, destination, departure_time=dept_time_iter+1000 +i,\n",
    "                                               traffic_model='pessimistic')\n",
    "    print(mydir[0]['legs'][0]['duration_in_traffic']['value'])\n",
    "\n",
    "# Distance matrix\n",
    "org = [origin]\n",
    "dest = [destination]\n",
    "for i in tqdm(range(50)):\n",
    "    mydir = gmaps.distance_matrix(org, dest, departure_time=dept_time_iter+1000 +i,traffic_model='pessimistic')\n",
    "#     print(mydir['rows'][0]['elements'][0]['duration_in_traffic']['value'])"
   ]
  },
  {
   "cell_type": "code",
   "execution_count": 3,
   "metadata": {},
   "outputs": [],
   "source": [
    "def obtain_commute_times(origin, destination, time_range, time_int):\n",
    "    '''\n",
    "    This function will obtain the commute times from origin to destination.\n",
    "    '''\n",
    "    from googlemaps import Client\n",
    "    from datetime import datetime, timedelta\n",
    "    import numpy as np\n",
    "    import time\n",
    "    import pytz\n",
    "\n",
    "    # Import api key from apikey.py\n",
    "    from apikey import gmaps_dir_matrix_key\n",
    "\n",
    "    API_key = gmaps_dir_matrix_key # Insert your Google Distance Matrix API Key here\n",
    "\n",
    "    gmaps = Client(API_key)\n",
    "\n",
    "    # The time interval on x-axis between each api call/data point\n",
    "    time_interval = time_int  # time interval in Seconds\n",
    "    t_int_minutes = time_interval / 60\n",
    "    \n",
    "    # Define the correct timezone via the destination\n",
    "    # Geocode the input address\n",
    "    geocode_result = gmaps.geocode(destination)\n",
    "    # Obtain latitude and longitude information\n",
    "    lat = geocode_result[0]['geometry']['location']['lat']\n",
    "    lng = geocode_result[0]['geometry']['location']['lng']\n",
    "\n",
    "    # Obtain the timezone for the geocoded address longitude and latitude\n",
    "    timezone = gmaps.timezone((lat, lng))\n",
    "    tz = timezone['timeZoneId']\n",
    "\n",
    "    # Pass the timezone to datetime.today to get the current time in that timezone\n",
    "    location_tz = pytz.timezone(tz)\n",
    "    today =datetime.now(location_tz)\n",
    "    \n",
    "    # This gives the nearest wednesday at midnight to the current data\n",
    "    print(\"Today is \")\n",
    "    print(today)\n",
    "    today_ind = today.weekday()\n",
    "    day_modif = 16 - today_ind  # 16 to get the nearest wednesday, two weeks from now\n",
    "    wednesday_mid = today + timedelta(days=day_modif, seconds=-today.second, minutes=-today.minute, hours=-today.hour)\n",
    "    wed_mid_int = int(wednesday_mid.strftime(\"%s\"))\n",
    "\n",
    "    # This converts the start time into an integer time on monday\n",
    "    hour_range_depart = time_range\n",
    "\n",
    "    # This builds your time array based on the start time and end time monday\n",
    "    start_time = wed_mid_int + hour_range_depart[0] * 3600\n",
    "    end_time = wed_mid_int + hour_range_depart[1] * 3600\n",
    "    num_intervals = int((end_time - start_time) / time_interval)\n",
    "\n",
    "    # Use linspace to make our integer times\n",
    "    times = np.linspace(start_time, end_time, num_intervals + 1, endpoint=True).astype(np.int)\n",
    "\n",
    "    org_mat = [origin]\n",
    "    dest_mat = [destination]\n",
    "\n",
    "    commute_times = [] * len(times)\n",
    "\n",
    "    for i in range(0, len(times)):\n",
    "        dept_time_iter = times[i]\n",
    "        directions = gmaps.distance_matrix(org_mat, dest_mat, departure_time=dept_time_iter,\n",
    "                                           traffic_model='pessimistic')\n",
    "        commute_time = directions['rows'][0]['elements'][0]['duration_in_traffic']['value']\n",
    "        commute_times.append(round(commute_time/60, 1))\n",
    "\n",
    "    return commute_times"
   ]
  },
  {
   "cell_type": "code",
   "execution_count": null,
   "metadata": {},
   "outputs": [],
   "source": []
  }
 ],
 "metadata": {
  "kernelspec": {
   "display_name": "Python 3",
   "language": "python",
   "name": "python3"
  },
  "language_info": {
   "codemirror_mode": {
    "name": "ipython",
    "version": 3
   },
   "file_extension": ".py",
   "mimetype": "text/x-python",
   "name": "python",
   "nbconvert_exporter": "python",
   "pygments_lexer": "ipython3",
   "version": "3.6.6"
  }
 },
 "nbformat": 4,
 "nbformat_minor": 2
}
